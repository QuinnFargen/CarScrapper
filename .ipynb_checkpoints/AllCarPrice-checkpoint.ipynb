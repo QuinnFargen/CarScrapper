{
 "cells": [
  {
   "cell_type": "markdown",
   "metadata": {},
   "source": [
    "## Data and Package Import"
   ]
  },
  {
   "cell_type": "code",
   "execution_count": 8,
   "metadata": {},
   "outputs": [],
   "source": [
    "import pyodbc\n",
    "import pandas as pd\n",
    "\n",
    "\n",
    "def get_connQuery():\n",
    "    return pyodbc.connect(\"DRIVER={ODBC Driver 17 for SQL Server};\"\n",
    "                          \"SERVER=DESKTOP-FK7HVAL\\PRACTICEDB;\"\n",
    "                          \"DATABASE=Messy;\"\n",
    "                          \"Trusted_Connection=yes;\")\n",
    "\n",
    "def get_SqlQuery():\n",
    "    connQuery = get_connQuery()\n",
    "    return pd.read_sql_query(\n",
    "        '''\n",
    "    SELECT A.* FROM Messy.dbo.AllCurrentData A with (NOLOCK)   \n",
    "    ''', connQuery)\n",
    "\n",
    "SQLQuery = get_SqlQuery()\n",
    "AllCars = pd.DataFrame(SQLQuery, columns=['JasonID', 'VIN', 'Price','odometer','Year','Make','Model','VehicleConfig'\n",
    "                                          ,'color','Damage','Usage','PrevOwners','Transmission','EngName'])\n"
   ]
  },
  {
   "cell_type": "code",
   "execution_count": 12,
   "metadata": {},
   "outputs": [
    {
     "data": {
      "text/html": [
       "<div>\n",
       "<style scoped>\n",
       "    .dataframe tbody tr th:only-of-type {\n",
       "        vertical-align: middle;\n",
       "    }\n",
       "\n",
       "    .dataframe tbody tr th {\n",
       "        vertical-align: top;\n",
       "    }\n",
       "\n",
       "    .dataframe thead th {\n",
       "        text-align: right;\n",
       "    }\n",
       "</style>\n",
       "<table border=\"1\" class=\"dataframe\">\n",
       "  <thead>\n",
       "    <tr style=\"text-align: right;\">\n",
       "      <th></th>\n",
       "      <th>JasonID</th>\n",
       "      <th>VIN</th>\n",
       "      <th>Price</th>\n",
       "      <th>odometer</th>\n",
       "      <th>Year</th>\n",
       "      <th>Make</th>\n",
       "      <th>Model</th>\n",
       "      <th>VehicleConfig</th>\n",
       "      <th>color</th>\n",
       "      <th>Damage</th>\n",
       "      <th>Usage</th>\n",
       "      <th>PrevOwners</th>\n",
       "      <th>Transmission</th>\n",
       "      <th>EngName</th>\n",
       "    </tr>\n",
       "  </thead>\n",
       "  <tbody>\n",
       "    <tr>\n",
       "      <td>0</td>\n",
       "      <td>1</td>\n",
       "      <td>2G1WH55K6Y9264263</td>\n",
       "      <td>1200.0</td>\n",
       "      <td>206223.0</td>\n",
       "      <td>2000</td>\n",
       "      <td>chevrolet</td>\n",
       "      <td>impala</td>\n",
       "      <td>LS 4dr Sedan</td>\n",
       "      <td>Black</td>\n",
       "      <td>0</td>\n",
       "      <td>Personal Use</td>\n",
       "      <td>4</td>\n",
       "      <td>AUTOMATIC</td>\n",
       "      <td>6 Cyl</td>\n",
       "    </tr>\n",
       "    <tr>\n",
       "      <td>1</td>\n",
       "      <td>2</td>\n",
       "      <td>2G1WF55E9Y9184102</td>\n",
       "      <td>595.0</td>\n",
       "      <td>218640.0</td>\n",
       "      <td>2000</td>\n",
       "      <td>chevrolet</td>\n",
       "      <td>impala</td>\n",
       "      <td>4dr Sedan</td>\n",
       "      <td>Bright White</td>\n",
       "      <td>0</td>\n",
       "      <td>Rental Use</td>\n",
       "      <td>5</td>\n",
       "      <td>AUTOMATIC</td>\n",
       "      <td>6 Cyl</td>\n",
       "    </tr>\n",
       "    <tr>\n",
       "      <td>2</td>\n",
       "      <td>3</td>\n",
       "      <td>2G1WH55K2Y9364912</td>\n",
       "      <td>2400.0</td>\n",
       "      <td>197374.0</td>\n",
       "      <td>2000</td>\n",
       "      <td>chevrolet</td>\n",
       "      <td>impala</td>\n",
       "      <td>LS 4dr Sedan</td>\n",
       "      <td>Light Driftwood Metallic</td>\n",
       "      <td>0</td>\n",
       "      <td>Personal Use</td>\n",
       "      <td>4</td>\n",
       "      <td>AUTOMATIC</td>\n",
       "      <td>6 Cyl</td>\n",
       "    </tr>\n",
       "    <tr>\n",
       "      <td>3</td>\n",
       "      <td>5</td>\n",
       "      <td>2G1WF52E419238190</td>\n",
       "      <td>1990.0</td>\n",
       "      <td>99651.0</td>\n",
       "      <td>2001</td>\n",
       "      <td>chevrolet</td>\n",
       "      <td>impala</td>\n",
       "      <td>4dr Sedan (3.4L 6cyl 4A)</td>\n",
       "      <td>Sandrift Metallic</td>\n",
       "      <td>1</td>\n",
       "      <td>Personal Use</td>\n",
       "      <td>4</td>\n",
       "      <td>AUTOMATIC</td>\n",
       "      <td>6 Cyl</td>\n",
       "    </tr>\n",
       "    <tr>\n",
       "      <td>4</td>\n",
       "      <td>6</td>\n",
       "      <td>2G1WH55K819164882</td>\n",
       "      <td>1995.0</td>\n",
       "      <td>160000.0</td>\n",
       "      <td>2001</td>\n",
       "      <td>chevrolet</td>\n",
       "      <td>impala</td>\n",
       "      <td>LS 4dr Sedan (3.8L 6cyl 4A)</td>\n",
       "      <td>Galaxy Silver Metallic</td>\n",
       "      <td>0</td>\n",
       "      <td>Corporate Fleet</td>\n",
       "      <td>4</td>\n",
       "      <td>AUTOMATIC</td>\n",
       "      <td>6 Cyl</td>\n",
       "    </tr>\n",
       "  </tbody>\n",
       "</table>\n",
       "</div>"
      ],
      "text/plain": [
       "   JasonID                VIN   Price  odometer  Year       Make   Model  \\\n",
       "0        1  2G1WH55K6Y9264263  1200.0  206223.0  2000  chevrolet  impala   \n",
       "1        2  2G1WF55E9Y9184102   595.0  218640.0  2000  chevrolet  impala   \n",
       "2        3  2G1WH55K2Y9364912  2400.0  197374.0  2000  chevrolet  impala   \n",
       "3        5  2G1WF52E419238190  1990.0   99651.0  2001  chevrolet  impala   \n",
       "4        6  2G1WH55K819164882  1995.0  160000.0  2001  chevrolet  impala   \n",
       "\n",
       "                 VehicleConfig                     color Damage  \\\n",
       "0                 LS 4dr Sedan                     Black      0   \n",
       "1                    4dr Sedan              Bright White      0   \n",
       "2                 LS 4dr Sedan  Light Driftwood Metallic      0   \n",
       "3     4dr Sedan (3.4L 6cyl 4A)         Sandrift Metallic      1   \n",
       "4  LS 4dr Sedan (3.8L 6cyl 4A)    Galaxy Silver Metallic      0   \n",
       "\n",
       "             Usage PrevOwners Transmission EngName  \n",
       "0     Personal Use          4    AUTOMATIC   6 Cyl  \n",
       "1       Rental Use          5    AUTOMATIC   6 Cyl  \n",
       "2     Personal Use          4    AUTOMATIC   6 Cyl  \n",
       "3     Personal Use          4    AUTOMATIC   6 Cyl  \n",
       "4  Corporate Fleet          4    AUTOMATIC   6 Cyl  "
      ]
     },
     "execution_count": 12,
     "metadata": {},
     "output_type": "execute_result"
    }
   ],
   "source": [
    "# AllCars.describe()\n",
    "# AllCars.info()\n",
    "AllCars.head()"
   ]
  },
  {
   "cell_type": "markdown",
   "metadata": {},
   "source": [
    "## Modeling"
   ]
  },
  {
   "cell_type": "code",
   "execution_count": 41,
   "metadata": {},
   "outputs": [],
   "source": [
    "import xgboost as xgb\n",
    "from sklearn.model_selection import train_test_split\n",
    "from sklearn.metrics import mean_squared_error"
   ]
  },
  {
   "cell_type": "code",
   "execution_count": 29,
   "metadata": {},
   "outputs": [],
   "source": [
    "X = AllCars.iloc[:,3:4] # only miles year\n",
    "y = AllCars.iloc[:,2]\n",
    "X_train, X_test, y_train, y_test = train_test_split(X, y, random_state = 5)"
   ]
  },
  {
   "cell_type": "code",
   "execution_count": 30,
   "metadata": {},
   "outputs": [],
   "source": [
    "regressor = xgb.XGBRegressor(\n",
    "    n_estimators=100,\n",
    "    reg_lambda=1,\n",
    "    gamma=0,\n",
    "    max_depth=3\n",
    ")"
   ]
  },
  {
   "cell_type": "code",
   "execution_count": 31,
   "metadata": {},
   "outputs": [
    {
     "name": "stderr",
     "output_type": "stream",
     "text": [
      "C:\\Users\\Quinn\\Anaconda3\\lib\\site-packages\\xgboost\\core.py:587: FutureWarning: Series.base is deprecated and will be removed in a future version\n",
      "  if getattr(data, 'base', None) is not None and \\\n"
     ]
    },
    {
     "name": "stdout",
     "output_type": "stream",
     "text": [
      "[22:21:20] WARNING: src/objective/regression_obj.cu:152: reg:linear is now deprecated in favor of reg:squarederror.\n"
     ]
    },
    {
     "data": {
      "text/plain": [
       "XGBRegressor(base_score=0.5, booster='gbtree', colsample_bylevel=1,\n",
       "             colsample_bynode=1, colsample_bytree=1, gamma=0,\n",
       "             importance_type='gain', learning_rate=0.1, max_delta_step=0,\n",
       "             max_depth=3, min_child_weight=1, missing=None, n_estimators=100,\n",
       "             n_jobs=1, nthread=None, objective='reg:linear', random_state=0,\n",
       "             reg_alpha=0, reg_lambda=1, scale_pos_weight=1, seed=None,\n",
       "             silent=None, subsample=1, verbosity=1)"
      ]
     },
     "execution_count": 31,
     "metadata": {},
     "output_type": "execute_result"
    }
   ],
   "source": [
    "regressor.fit(X_train, y_train)"
   ]
  },
  {
   "cell_type": "code",
   "execution_count": 37,
   "metadata": {},
   "outputs": [
    {
     "name": "stdout",
     "output_type": "stream",
     "text": [
      "     0\n",
      "0  1.0\n"
     ]
    }
   ],
   "source": [
    "print(pd.DataFrame(regressor.feature_importances_))"
   ]
  },
  {
   "cell_type": "code",
   "execution_count": 39,
   "metadata": {},
   "outputs": [
    {
     "name": "stdout",
     "output_type": "stream",
     "text": [
      "[18349.904 23908.904 11444.933 ... 10028.363 17544.941 22499.064]\n"
     ]
    }
   ],
   "source": [
    "y_pred = regressor.predict(X_test)\n",
    "print(y_pred)"
   ]
  },
  {
   "cell_type": "code",
   "execution_count": 42,
   "metadata": {},
   "outputs": [
    {
     "data": {
      "text/plain": [
       "49930984.70728027"
      ]
     },
     "execution_count": 42,
     "metadata": {},
     "output_type": "execute_result"
    }
   ],
   "source": [
    "mean_squared_error(y_test, y_pred)"
   ]
  },
  {
   "cell_type": "code",
   "execution_count": null,
   "metadata": {},
   "outputs": [],
   "source": []
  }
 ],
 "metadata": {
  "kernelspec": {
   "display_name": "Python 3",
   "language": "python",
   "name": "python3"
  },
  "language_info": {
   "codemirror_mode": {
    "name": "ipython",
    "version": 3
   },
   "file_extension": ".py",
   "mimetype": "text/x-python",
   "name": "python",
   "nbconvert_exporter": "python",
   "pygments_lexer": "ipython3",
   "version": "3.7.4"
  }
 },
 "nbformat": 4,
 "nbformat_minor": 4
}
